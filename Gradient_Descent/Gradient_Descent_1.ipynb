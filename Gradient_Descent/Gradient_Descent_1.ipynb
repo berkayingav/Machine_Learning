{
 "cells": [
  {
   "cell_type": "markdown",
   "id": "83380a72",
   "metadata": {},
   "source": [
    "GRADIENT DESCENT"
   ]
  },
  {
   "cell_type": "code",
   "execution_count": 1,
   "id": "b279be46",
   "metadata": {},
   "outputs": [],
   "source": [
    "#Gradient Descent Hemen hemen tüm ML algoritmalarında kullanılır. Optimizasyon sağlamak için kullanılmaktadır."
   ]
  },
  {
   "cell_type": "code",
   "execution_count": 2,
   "id": "a1adf158",
   "metadata": {},
   "outputs": [],
   "source": [
    "import numpy as np\n",
    "import matplotlib.pyplot as plt"
   ]
  },
  {
   "cell_type": "code",
   "execution_count": 3,
   "id": "e84d1981",
   "metadata": {},
   "outputs": [
    {
     "data": {
      "text/plain": [
       "array([[0.15792767],\n",
       "       [0.986884  ],\n",
       "       [0.90401491],\n",
       "       [1.70020375],\n",
       "       [0.5770728 ],\n",
       "       [1.60297966],\n",
       "       [0.59015928],\n",
       "       [0.51627052],\n",
       "       [0.47901987],\n",
       "       [1.53039204],\n",
       "       [1.67846251],\n",
       "       [0.80943231],\n",
       "       [0.66071378],\n",
       "       [1.12817776],\n",
       "       [0.40674004],\n",
       "       [0.95230186],\n",
       "       [0.16121943],\n",
       "       [1.07182157],\n",
       "       [1.10796401],\n",
       "       [1.91327724],\n",
       "       [1.18384836],\n",
       "       [0.93109279],\n",
       "       [0.48990322],\n",
       "       [0.64341261],\n",
       "       [0.3237116 ],\n",
       "       [0.27297115],\n",
       "       [1.55218487],\n",
       "       [0.2189299 ],\n",
       "       [0.69038696],\n",
       "       [0.30646602],\n",
       "       [1.26302809],\n",
       "       [0.31378022],\n",
       "       [0.42579497],\n",
       "       [1.96797312],\n",
       "       [0.66398065],\n",
       "       [1.28355704],\n",
       "       [0.5904983 ],\n",
       "       [0.48785993],\n",
       "       [1.8503286 ],\n",
       "       [0.33687381],\n",
       "       [1.15469021],\n",
       "       [0.55895689],\n",
       "       [0.61400949],\n",
       "       [1.24777524],\n",
       "       [0.79933646],\n",
       "       [1.19263725],\n",
       "       [1.80359589],\n",
       "       [1.43317061],\n",
       "       [1.6747768 ],\n",
       "       [1.53507345],\n",
       "       [1.83882007],\n",
       "       [1.61384436],\n",
       "       [1.30391626],\n",
       "       [0.65963135],\n",
       "       [0.62894895],\n",
       "       [1.20997593],\n",
       "       [0.26169665],\n",
       "       [1.45235052],\n",
       "       [1.54023324],\n",
       "       [1.6146045 ],\n",
       "       [0.4716026 ],\n",
       "       [1.58530139],\n",
       "       [1.38410479],\n",
       "       [0.72356565],\n",
       "       [0.20598327],\n",
       "       [0.22246536],\n",
       "       [0.09662493],\n",
       "       [1.07644307],\n",
       "       [0.03440964],\n",
       "       [0.23093432],\n",
       "       [0.33122462],\n",
       "       [1.43762957],\n",
       "       [1.60426679],\n",
       "       [1.37165049],\n",
       "       [1.60853468],\n",
       "       [1.84327085],\n",
       "       [1.64794401],\n",
       "       [1.57001121],\n",
       "       [0.25444687],\n",
       "       [1.74940943],\n",
       "       [0.54207988],\n",
       "       [0.59590696],\n",
       "       [0.20930342],\n",
       "       [0.43741003],\n",
       "       [0.89108347],\n",
       "       [0.17385719],\n",
       "       [1.32782716],\n",
       "       [1.60077967],\n",
       "       [1.80046534],\n",
       "       [1.36984762],\n",
       "       [0.26921044],\n",
       "       [0.12600147],\n",
       "       [0.37459617],\n",
       "       [1.44385849],\n",
       "       [0.52977797],\n",
       "       [1.569041  ],\n",
       "       [0.98656215],\n",
       "       [1.61663031],\n",
       "       [0.8492721 ],\n",
       "       [0.8553181 ]])"
      ]
     },
     "execution_count": 3,
     "metadata": {},
     "output_type": "execute_result"
    }
   ],
   "source": [
    "X = 2 * np.random.rand(100,1)  # np.random.rand(100,1) bu kod numpy dizisi oluşturur 100 adet 0 ile 1 arasında sayı.\n",
    "X"
   ]
  },
  {
   "cell_type": "code",
   "execution_count": 4,
   "id": "90798804",
   "metadata": {},
   "outputs": [
    {
     "data": {
      "text/plain": [
       "array([[ 4.81972389],\n",
       "       [ 7.9371525 ],\n",
       "       [ 6.77088635],\n",
       "       [ 9.52908386],\n",
       "       [ 6.2084322 ],\n",
       "       [ 9.01373301],\n",
       "       [ 6.39000279],\n",
       "       [ 6.11142964],\n",
       "       [ 6.18644827],\n",
       "       [ 8.72021816],\n",
       "       [ 9.95463754],\n",
       "       [ 6.45672454],\n",
       "       [ 6.18750384],\n",
       "       [ 7.70013349],\n",
       "       [ 5.71133253],\n",
       "       [ 7.3696628 ],\n",
       "       [ 4.70168786],\n",
       "       [ 8.19826848],\n",
       "       [ 8.23497207],\n",
       "       [10.70559778],\n",
       "       [ 7.55236955],\n",
       "       [ 7.0032142 ],\n",
       "       [ 5.76068376],\n",
       "       [ 6.92391555],\n",
       "       [ 5.21739131],\n",
       "       [ 5.0702065 ],\n",
       "       [ 8.69888525],\n",
       "       [ 5.57538688],\n",
       "       [ 6.78142515],\n",
       "       [ 5.49774382],\n",
       "       [ 8.3575213 ],\n",
       "       [ 5.23130018],\n",
       "       [ 5.85848594],\n",
       "       [10.17742786],\n",
       "       [ 6.65472454],\n",
       "       [ 8.22697137],\n",
       "       [ 6.71893237],\n",
       "       [ 6.00614221],\n",
       "       [10.31946892],\n",
       "       [ 5.75655255],\n",
       "       [ 8.34905744],\n",
       "       [ 6.05872774],\n",
       "       [ 6.73938448],\n",
       "       [ 7.85370109],\n",
       "       [ 6.98602644],\n",
       "       [ 8.04107808],\n",
       "       [ 9.89219445],\n",
       "       [ 8.33758462],\n",
       "       [ 9.52599014],\n",
       "       [ 9.14212805],\n",
       "       [ 9.97924732],\n",
       "       [ 9.2203006 ],\n",
       "       [ 8.61403004],\n",
       "       [ 6.5755128 ],\n",
       "       [ 6.19145241],\n",
       "       [ 7.70692933],\n",
       "       [ 5.56498536],\n",
       "       [ 9.16511679],\n",
       "       [ 8.71794833],\n",
       "       [ 9.06878672],\n",
       "       [ 6.37231008],\n",
       "       [ 8.96162192],\n",
       "       [ 8.22527027],\n",
       "       [ 6.44569679],\n",
       "       [ 5.37961482],\n",
       "       [ 4.8129804 ],\n",
       "       [ 4.61974011],\n",
       "       [ 7.67635349],\n",
       "       [ 5.02455235],\n",
       "       [ 5.0178212 ],\n",
       "       [ 5.808062  ],\n",
       "       [ 8.54660309],\n",
       "       [ 9.30006964],\n",
       "       [ 9.00313438],\n",
       "       [ 9.37919212],\n",
       "       [10.3927373 ],\n",
       "       [ 9.48698172],\n",
       "       [ 9.51448006],\n",
       "       [ 4.78450345],\n",
       "       [ 9.62121763],\n",
       "       [ 6.29580288],\n",
       "       [ 6.0873407 ],\n",
       "       [ 5.10543212],\n",
       "       [ 6.15051357],\n",
       "       [ 7.28969842],\n",
       "       [ 5.24502688],\n",
       "       [ 8.20122897],\n",
       "       [ 9.67771903],\n",
       "       [10.21421957],\n",
       "       [ 8.34992131],\n",
       "       [ 4.87832935],\n",
       "       [ 4.66310332],\n",
       "       [ 5.40097985],\n",
       "       [ 9.27579191],\n",
       "       [ 5.86006414],\n",
       "       [ 8.9844169 ],\n",
       "       [ 7.37759012],\n",
       "       [ 9.82492743],\n",
       "       [ 6.68939093],\n",
       "       [ 6.75376547]])"
      ]
     },
     "execution_count": 4,
     "metadata": {},
     "output_type": "execute_result"
    }
   ],
   "source": [
    "y = 4 + 3*X + np.random.rand(100,1)\n",
    "y"
   ]
  },
  {
   "cell_type": "code",
   "execution_count": 5,
   "id": "52301d11",
   "metadata": {},
   "outputs": [
    {
     "data": {
      "image/png": "[encoded data removed]",
      "text/plain": [
       "<Figure size 640x480 with 1 Axes>"
      ]
     },
     "metadata": {},
     "output_type": "display_data"
    }
   ],
   "source": [
    "plt.scatter(X,y)\n",
    "plt.xlabel('X')\n",
    "plt.ylabel('y')\n",
    "plt.show()"
   ]
  },
  {
   "cell_type": "code",
   "execution_count": 6,
   "id": "e833c45e",
   "metadata": {},
   "outputs": [],
   "source": [
    "# Görüldüğü üzere X ile y arasında lineer bir ilişki vardır\n",
    "# y = wo + w1X + e      \n",
    "\n",
    "# Burada W weight vektörü:  W = [w0 w1]"
   ]
  },
  {
   "cell_type": "code",
   "execution_count": 7,
   "id": "a245599f",
   "metadata": {},
   "outputs": [],
   "source": [
    "# Yazdığımız denkleme baktığımızda gerçek katsayıları şu şekilde olacaktır.\n",
    "# y = 4 + 3*X + np.random.rand(100,1)\n",
    "# Katsayı değerleri ;\n",
    "# w0 = 4    w1 = 3\n",
    "# vektörler ile gösterirsek yani matris çarpımı ile:  y = WX + e\n",
    "# Burada WX değeri W ile X'in  Dot Product'ıdır. (İç çarpım)"
   ]
  },
  {
   "cell_type": "markdown",
   "id": "61700b27",
   "metadata": {},
   "source": [
    "Analitik Çözüm"
   ]
  },
  {
   "cell_type": "code",
   "execution_count": 8,
   "id": "ca0c124c",
   "metadata": {},
   "outputs": [],
   "source": [
    "# Least squares yöntemi RSS minimize ederek, en iyi w0 ve w1 değerlerini tahmin eder.\n",
    "# Tahmin herhangi bir x_i değerinde \n",
    "# y_i = w0 + w1X_i"
   ]
  },
  {
   "cell_type": "code",
   "execution_count": 9,
   "id": "f9d9a630",
   "metadata": {},
   "outputs": [],
   "source": [
    "# X_i = indexi i olan data\n",
    "# y_i = indexi i olan data için tahmin (toplamda n adet var)"
   ]
  },
  {
   "cell_type": "code",
   "execution_count": 10,
   "id": "adc5eda4",
   "metadata": {},
   "outputs": [],
   "source": [
    "# Değişkenler için alt index(sütun) X(i) kullanılırken veriler için üst index (satır) X_i kullanılır.\n",
    "\n",
    "# X'ler yani girdiler bilindiğinde göre tahmin etmeye çalıştığımız w0 ve w1 değişkenleridir. (Katsayılar)\n",
    "# Katsayılar için beta , teta ,w hepsi kullanılabilir.,\n",
    "\n",
    "# Tahmini least squares yöntemi ile yani OLS ile yaparız.\n",
    "# Herhangi bir i noktasındaki hata \n"
   ]
  },
  {
   "cell_type": "markdown",
   "id": "6804d84c",
   "metadata": {},
   "source": [
    "e : residual error"
   ]
  },
  {
   "cell_type": "code",
   "execution_count": 11,
   "id": "917b2e37",
   "metadata": {},
   "outputs": [],
   "source": [
    "# e = y_pred - y_gerçek"
   ]
  },
  {
   "cell_type": "markdown",
   "id": "b0b49b22",
   "metadata": {},
   "source": [
    "RSS: Residual sum of squares"
   ]
  },
  {
   "cell_type": "code",
   "execution_count": 12,
   "id": "ba850d01",
   "metadata": {},
   "outputs": [],
   "source": [
    "# RSS = e1^2  + e2^2  +  e3^2  + ........\n",
    "\n",
    "# Least squares yöntemi, RSS minimize ederek, en iyi w0 ve w1 tahminlerini yapar."
   ]
  },
  {
   "cell_type": "code",
   "execution_count": 13,
   "id": "57de6678",
   "metadata": {},
   "outputs": [],
   "source": [
    "# Analitik yöntem ile çoğu zaman mümkün olmaz. Çünkü bilgisayarı çok yorar ve bu yüzden kullanılmaz çok fazla."
   ]
  },
  {
   "cell_type": "code",
   "execution_count": 14,
   "id": "280e37db",
   "metadata": {},
   "outputs": [],
   "source": [
    "# Toplam hata w0 ve w1 değişkenlerine bağlı convex bir fonksiyondur.( Kareleri olduğu için) Amaç bunları minimize etmektir."
   ]
  },
  {
   "cell_type": "markdown",
   "id": "031348c7",
   "metadata": {},
   "source": [
    "Terimler"
   ]
  },
  {
   "cell_type": "markdown",
   "id": "5d27e34b",
   "metadata": {},
   "source": [
    "Cost Function ( Maliyet Fonksiyonu)"
   ]
  },
  {
   "cell_type": "code",
   "execution_count": 15,
   "id": "aa4adb47",
   "metadata": {},
   "outputs": [],
   "source": [
    "# Minimize etmeye çalıştığımız maliyet fonksiyonu  w0 , w1 değişkenlerine bağlı convex bir fonksiyondur.\n",
    "\n",
    "# J(w) = 1/2n * [i=1 : n ](kadar toplamı)  ((y_pred - y_real)^2 )\n",
    "\n",
    "# Cost function aslında MSE'nin özel bir formudur."
   ]
  },
  {
   "cell_type": "markdown",
   "id": "d4b649b0",
   "metadata": {},
   "source": [
    "Gradient"
   ]
  },
  {
   "cell_type": "code",
   "execution_count": 16,
   "id": "cb760513",
   "metadata": {},
   "outputs": [],
   "source": [
    "# Maliyet fonksiyonunun w'ye göre türevidir."
   ]
  },
  {
   "cell_type": "markdown",
   "id": "c9fef559",
   "metadata": {},
   "source": [
    "Gradient Descent Nasıl Çalışır:"
   ]
  },
  {
   "cell_type": "code",
   "execution_count": 17,
   "id": "aada30b4",
   "metadata": {},
   "outputs": [],
   "source": [
    "# 1-) Önce bir başlangıç noktası seçilir (w0 ve w1)\n",
    "# 2-) Bu noktalar için J(w) cost function değeri hesaplanır\n",
    "# 3-) Bu J(w) değeri üzerinden w0 ve w1 için Gradient hesaplanır.\n",
    "# 4-) Bu gradient'in negatif değeri alınır.( Amacımız cost functionu azaltmak çünkü.)\n",
    "# 5-) Bu negatif değer bir learning rate a ile çarpılır.\n",
    "# 6-) Bu çarpım sonucu ilgili w değerinden çıkarılır.\n",
    "# 7-) Döngü tekrar 1. adımdan devam eder (Belirlenen iteration-döngü sayısında)"
   ]
  },
  {
   "cell_type": "markdown",
   "id": "e8959ea0",
   "metadata": {},
   "source": [
    "GRADIENT DESCENT PYTHON"
   ]
  },
  {
   "cell_type": "code",
   "execution_count": 18,
   "id": "d4b81c2a",
   "metadata": {},
   "outputs": [],
   "source": [
    "# Maliyet cost hesaplama fonksiyonu \n",
    "\n",
    "def cal_cost(W , X, y):\n",
    "    \"\"\"\n",
    "    X ve y için maliyet cost hesaplar. \n",
    "    Parametreler:\n",
    "    W = Katsayı vektörü (p,1)\n",
    "    X = Girdi vektörü  (n,p)\n",
    "    y = Gerçek y'ler    (n,1)\n",
    "    Burada\n",
    "    n : Toplam veri adedi (satır sayısı)\n",
    "    p : X içindeki değişken adedi (sütun sayısı)\n",
    "    \n",
    "    Dönüş:\n",
    "    Cost = Hesaplanan maliyet değeri \n",
    "    \"\"\"\n",
    "    \n",
    "    n = len(y)\n",
    "    \n",
    "    # Önce tahmini hesapla y = X W \n",
    "    # X --> (n,p)\n",
    "    # W --> (p,1)\n",
    "    # y--> (n,1)\n",
    "    \n",
    "    tahmin = X.dot(W)\n",
    "    \n",
    "    # Cost function değerini hesapla\n",
    "    \n",
    "    cost = (1/2*n) * np.sum(np.square(tahmin-y))\n",
    "    \n",
    "    # maliyet cost değerine dön\n",
    "    \n",
    "    return cost"
   ]
  },
  {
   "cell_type": "code",
   "execution_count": 19,
   "id": "495fa5a2",
   "metadata": {},
   "outputs": [],
   "source": [
    "def gradient_descent(X, y, W, learning_rate= 0.01 , iterations=100):\n",
    "    \n",
    "    \"\"\"\n",
    "    Gradient Descent Uygulama Fonksiyonu\n",
    "    Parametreler:\n",
    "    X = X matrisi (bias unit eklenmiş hali, yani 1'lerden oluşmuş bir ilk sütun)\n",
    "    y = y vektörü\n",
    "    W =  Katsayı vektörü (w'lerden olumuş)\n",
    "    learning_rate = a = öğrenme katsayısı\n",
    "    iterations = Toplam döngü sayısı\n",
    "    \n",
    "    Dönüş:\n",
    "    * W vektörünün son hali\n",
    "    * Maliyet listesi(cost history)\n",
    "    * W vektörünün listesi(weight history)\n",
    "    \"\"\"\n",
    "    \n",
    "    n = len(y)\n",
    "    cost_history = np.zeros(iterations)\n",
    "    w_history = np.zeros((iterations,2))\n",
    "    \n",
    "    for it in range(iterations):\n",
    "        \n",
    "        tahmin = np.dot(X,W)\n",
    "        \n",
    "        W = W - (1/n) * learning_rate * (X.T.dot((tahmin-y)))  \n",
    "        w_history[it,:] =  W.T\n",
    "        \n",
    "        cost_history[it] = cal_cost(W ,X ,y)\n",
    "        \n",
    "    return W , cost_history, w_history\n",
    "    \n",
    "# def gradient_descent(X, y, W, learning_rate=0.01, iterations=100):: gradient_descent adında bir fonksiyon tanımlıyoruz ve gerekli parametreleri alıyoruz. Bu fonksiyon, girdi veri matrisi X, hedef değerler vektörü y, katsayılar vektörü W, öğrenme katsayısı learning_rate (varsayılan değeri 0.01) ve toplam döngü sayısı iterations (varsayılan değeri 100) ile çalışır.\n",
    "\n",
    "# n = len(y): Veri noktalarının sayısını n değişkenine atıyoruz.\n",
    "\n",
    "# cost_history = np.zeros(iterations): Döngü boyunca her iterasyonda hesaplanan maliyet değerlerini saklamak için boş bir dizi olan cost_history oluşturuyoruz. Bu dizi, toplam döngü sayısı kadar elemana sahip olacak.\n",
    "    \n",
    "# w_history = np.zeros(iterations, 2): Her iterasyonda katsayıların güncellenmiş değerlerini saklamak için boş bir dizi olan w_history oluşturuyoruz. Bu dizi, toplam döngü sayısı kadar satıra ve 2 sütuna sahip olacak (2, çünkü katsayı vektörü W'nin boyutu ona göre belirliyoruz).\n",
    "\n",
    "# for it in range(iterations):: Toplam döngü sayısı kadar bir döngü oluşturuyoruz.\n",
    "\n",
    "# tahmin = np.dot(X, W): Her döngüde, mevcut katsayılarla giriş verilerini çarparak tahmin vektörünü oluşturuyoruz. Bu vektör, mevcut modelin veri noktaları için yaptığı tahminleri içerir.\n",
    "\n",
    "# W = W - (1/n) * learning_rate * (X.T.dot((tahmin-y))): Gradient descent algoritmasının ana adımını yapıyoruz. Katsayı vektörünü (W) güncelliyoruz. Güncelleme, mevcut katsayılardan, öğrenme katsayısı ile hatayı (tahmin-y) ve giriş matrisinin transpozunu (X.T) çarpıp ortalama değerini (1/n) çıkararak yapılır.\n",
    "\n",
    "# w_history[it, :] = W.T: Bu adımda, her iterasyonda elde edilen katsayıları w_history dizisine ekliyoruz. Transpozunu alarak katsayıları düzgün bir şekilde saklamış oluyoruz.\n",
    "\n",
    "# cost_history[it] = cal_cost(W, X, y): Bu adımda, her iterasyonda mevcut maliyet değerini cost_history dizisine ekliyoruz. cal_cost fonksiyonu, tahmin edilen değerlerin gerçek değerlerden ne kadar uzak olduğunu ölçen maliyet fonksiyonunu hesaplar.\n",
    "\n",
    "# Son olarak, döngü tamamlandıktan sonra, fonksiyon, son katsayıları (W), maliyet listesini (cost_history) ve katsayıların geçmiş değerlerini (w_history) döndürür.\n",
    "    \n",
    "# Bu fonksiyon, gradient descent algoritmasını uygulayarak bir makine öğrenimi modelini eğitmek için kullanılabilir. Modelin parametrelerini güncellerken, öğrenme katsayısının uygun bir değerle belirlenmesi ve yeterli iterasyon sayısının seçilmesi önemlidir.\n"
   ]
  },
  {
   "cell_type": "code",
   "execution_count": 20,
   "id": "f1257477",
   "metadata": {},
   "outputs": [],
   "source": [
    "# Şimdi gradiendt descent fonksiyonunu kullanarak yukarıda yarattığımız veri seti için uygun katsayıları bulucaz."
   ]
  },
  {
   "cell_type": "code",
   "execution_count": 21,
   "id": "d2aca59e",
   "metadata": {},
   "outputs": [
    {
     "name": "stdout",
     "output_type": "stream",
     "text": [
      "[[-1.39619683]\n",
      " [ 1.56125589]]\n"
     ]
    }
   ],
   "source": [
    "# Guassion normal dağılımda rastgele bir W vektöri alabiliriz\n",
    "W = np.random.randn(2,1)\n",
    "print(W)"
   ]
  },
  {
   "cell_type": "code",
   "execution_count": 22,
   "id": "3c013692",
   "metadata": {},
   "outputs": [],
   "source": [
    "# Learning rateye karar vermemiz lazım başlangıç için 0.01"
   ]
  },
  {
   "cell_type": "code",
   "execution_count": 23,
   "id": "0a519917",
   "metadata": {},
   "outputs": [],
   "source": [
    "lr = 0.01"
   ]
  },
  {
   "cell_type": "code",
   "execution_count": 24,
   "id": "032e2800",
   "metadata": {},
   "outputs": [],
   "source": [
    "# Toplam iterationsa ise 1000 olarak karar verelim"
   ]
  },
  {
   "cell_type": "code",
   "execution_count": 25,
   "id": "3dcdf062",
   "metadata": {},
   "outputs": [],
   "source": [
    "n_iter = 1000"
   ]
  },
  {
   "cell_type": "code",
   "execution_count": 26,
   "id": "c57d5859",
   "metadata": {},
   "outputs": [],
   "source": [
    "# Elimizdeki X vektörü tek sütunluk bir vektör \n",
    "# Bu yüzden w0 için bir sütun (bias columns) eklememiz lazım başına"
   ]
  },
  {
   "cell_type": "code",
   "execution_count": 27,
   "id": "1c1610c6",
   "metadata": {},
   "outputs": [
    {
     "data": {
      "text/plain": [
       "array([[0.15792767],\n",
       "       [0.986884  ],\n",
       "       [0.90401491],\n",
       "       [1.70020375],\n",
       "       [0.5770728 ],\n",
       "       [1.60297966],\n",
       "       [0.59015928],\n",
       "       [0.51627052],\n",
       "       [0.47901987],\n",
       "       [1.53039204],\n",
       "       [1.67846251],\n",
       "       [0.80943231],\n",
       "       [0.66071378],\n",
       "       [1.12817776],\n",
       "       [0.40674004],\n",
       "       [0.95230186],\n",
       "       [0.16121943],\n",
       "       [1.07182157],\n",
       "       [1.10796401],\n",
       "       [1.91327724],\n",
       "       [1.18384836],\n",
       "       [0.93109279],\n",
       "       [0.48990322],\n",
       "       [0.64341261],\n",
       "       [0.3237116 ],\n",
       "       [0.27297115],\n",
       "       [1.55218487],\n",
       "       [0.2189299 ],\n",
       "       [0.69038696],\n",
       "       [0.30646602],\n",
       "       [1.26302809],\n",
       "       [0.31378022],\n",
       "       [0.42579497],\n",
       "       [1.96797312],\n",
       "       [0.66398065],\n",
       "       [1.28355704],\n",
       "       [0.5904983 ],\n",
       "       [0.48785993],\n",
       "       [1.8503286 ],\n",
       "       [0.33687381],\n",
       "       [1.15469021],\n",
       "       [0.55895689],\n",
       "       [0.61400949],\n",
       "       [1.24777524],\n",
       "       [0.79933646],\n",
       "       [1.19263725],\n",
       "       [1.80359589],\n",
       "       [1.43317061],\n",
       "       [1.6747768 ],\n",
       "       [1.53507345],\n",
       "       [1.83882007],\n",
       "       [1.61384436],\n",
       "       [1.30391626],\n",
       "       [0.65963135],\n",
       "       [0.62894895],\n",
       "       [1.20997593],\n",
       "       [0.26169665],\n",
       "       [1.45235052],\n",
       "       [1.54023324],\n",
       "       [1.6146045 ],\n",
       "       [0.4716026 ],\n",
       "       [1.58530139],\n",
       "       [1.38410479],\n",
       "       [0.72356565],\n",
       "       [0.20598327],\n",
       "       [0.22246536],\n",
       "       [0.09662493],\n",
       "       [1.07644307],\n",
       "       [0.03440964],\n",
       "       [0.23093432],\n",
       "       [0.33122462],\n",
       "       [1.43762957],\n",
       "       [1.60426679],\n",
       "       [1.37165049],\n",
       "       [1.60853468],\n",
       "       [1.84327085],\n",
       "       [1.64794401],\n",
       "       [1.57001121],\n",
       "       [0.25444687],\n",
       "       [1.74940943],\n",
       "       [0.54207988],\n",
       "       [0.59590696],\n",
       "       [0.20930342],\n",
       "       [0.43741003],\n",
       "       [0.89108347],\n",
       "       [0.17385719],\n",
       "       [1.32782716],\n",
       "       [1.60077967],\n",
       "       [1.80046534],\n",
       "       [1.36984762],\n",
       "       [0.26921044],\n",
       "       [0.12600147],\n",
       "       [0.37459617],\n",
       "       [1.44385849],\n",
       "       [0.52977797],\n",
       "       [1.569041  ],\n",
       "       [0.98656215],\n",
       "       [1.61663031],\n",
       "       [0.8492721 ],\n",
       "       [0.8553181 ]])"
      ]
     },
     "execution_count": 27,
     "metadata": {},
     "output_type": "execute_result"
    }
   ],
   "source": [
    "X"
   ]
  },
  {
   "cell_type": "code",
   "execution_count": 28,
   "id": "c3ff03f1",
   "metadata": {},
   "outputs": [
    {
     "data": {
      "text/plain": [
       "100"
      ]
     },
     "execution_count": 28,
     "metadata": {},
     "output_type": "execute_result"
    }
   ],
   "source": [
    "n = len(X)\n",
    "n"
   ]
  },
  {
   "cell_type": "code",
   "execution_count": 29,
   "id": "88d64a97",
   "metadata": {},
   "outputs": [
    {
     "data": {
      "text/plain": [
       "array([[1.        , 0.15792767],\n",
       "       [1.        , 0.986884  ],\n",
       "       [1.        , 0.90401491],\n",
       "       [1.        , 1.70020375],\n",
       "       [1.        , 0.5770728 ],\n",
       "       [1.        , 1.60297966],\n",
       "       [1.        , 0.59015928],\n",
       "       [1.        , 0.51627052],\n",
       "       [1.        , 0.47901987],\n",
       "       [1.        , 1.53039204],\n",
       "       [1.        , 1.67846251],\n",
       "       [1.        , 0.80943231],\n",
       "       [1.        , 0.66071378],\n",
       "       [1.        , 1.12817776],\n",
       "       [1.        , 0.40674004],\n",
       "       [1.        , 0.95230186],\n",
       "       [1.        , 0.16121943],\n",
       "       [1.        , 1.07182157],\n",
       "       [1.        , 1.10796401],\n",
       "       [1.        , 1.91327724],\n",
       "       [1.        , 1.18384836],\n",
       "       [1.        , 0.93109279],\n",
       "       [1.        , 0.48990322],\n",
       "       [1.        , 0.64341261],\n",
       "       [1.        , 0.3237116 ],\n",
       "       [1.        , 0.27297115],\n",
       "       [1.        , 1.55218487],\n",
       "       [1.        , 0.2189299 ],\n",
       "       [1.        , 0.69038696],\n",
       "       [1.        , 0.30646602],\n",
       "       [1.        , 1.26302809],\n",
       "       [1.        , 0.31378022],\n",
       "       [1.        , 0.42579497],\n",
       "       [1.        , 1.96797312],\n",
       "       [1.        , 0.66398065],\n",
       "       [1.        , 1.28355704],\n",
       "       [1.        , 0.5904983 ],\n",
       "       [1.        , 0.48785993],\n",
       "       [1.        , 1.8503286 ],\n",
       "       [1.        , 0.33687381],\n",
       "       [1.        , 1.15469021],\n",
       "       [1.        , 0.55895689],\n",
       "       [1.        , 0.61400949],\n",
       "       [1.        , 1.24777524],\n",
       "       [1.        , 0.79933646],\n",
       "       [1.        , 1.19263725],\n",
       "       [1.        , 1.80359589],\n",
       "       [1.        , 1.43317061],\n",
       "       [1.        , 1.6747768 ],\n",
       "       [1.        , 1.53507345],\n",
       "       [1.        , 1.83882007],\n",
       "       [1.        , 1.61384436],\n",
       "       [1.        , 1.30391626],\n",
       "       [1.        , 0.65963135],\n",
       "       [1.        , 0.62894895],\n",
       "       [1.        , 1.20997593],\n",
       "       [1.        , 0.26169665],\n",
       "       [1.        , 1.45235052],\n",
       "       [1.        , 1.54023324],\n",
       "       [1.        , 1.6146045 ],\n",
       "       [1.        , 0.4716026 ],\n",
       "       [1.        , 1.58530139],\n",
       "       [1.        , 1.38410479],\n",
       "       [1.        , 0.72356565],\n",
       "       [1.        , 0.20598327],\n",
       "       [1.        , 0.22246536],\n",
       "       [1.        , 0.09662493],\n",
       "       [1.        , 1.07644307],\n",
       "       [1.        , 0.03440964],\n",
       "       [1.        , 0.23093432],\n",
       "       [1.        , 0.33122462],\n",
       "       [1.        , 1.43762957],\n",
       "       [1.        , 1.60426679],\n",
       "       [1.        , 1.37165049],\n",
       "       [1.        , 1.60853468],\n",
       "       [1.        , 1.84327085],\n",
       "       [1.        , 1.64794401],\n",
       "       [1.        , 1.57001121],\n",
       "       [1.        , 0.25444687],\n",
       "       [1.        , 1.74940943],\n",
       "       [1.        , 0.54207988],\n",
       "       [1.        , 0.59590696],\n",
       "       [1.        , 0.20930342],\n",
       "       [1.        , 0.43741003],\n",
       "       [1.        , 0.89108347],\n",
       "       [1.        , 0.17385719],\n",
       "       [1.        , 1.32782716],\n",
       "       [1.        , 1.60077967],\n",
       "       [1.        , 1.80046534],\n",
       "       [1.        , 1.36984762],\n",
       "       [1.        , 0.26921044],\n",
       "       [1.        , 0.12600147],\n",
       "       [1.        , 0.37459617],\n",
       "       [1.        , 1.44385849],\n",
       "       [1.        , 0.52977797],\n",
       "       [1.        , 1.569041  ],\n",
       "       [1.        , 0.98656215],\n",
       "       [1.        , 1.61663031],\n",
       "       [1.        , 0.8492721 ],\n",
       "       [1.        , 0.8553181 ]])"
      ]
     },
     "execution_count": 29,
     "metadata": {},
     "output_type": "execute_result"
    }
   ],
   "source": [
    "X_b = np.c_[np.ones((n,1)),X] # np.c_[] fonksiyonu iki sütunu birleştirmeye yarar buradada oluşturduğumuz 1'ler sütunu ile X'i birleştirdi\n",
    "X_b"
   ]
  },
  {
   "cell_type": "code",
   "execution_count": 30,
   "id": "1c31e8c6",
   "metadata": {},
   "outputs": [],
   "source": [
    "# Şimdi gradient Descent fonksiyonunu çağırabiliriz.\n",
    "\n",
    "W_final, cost_history, w_history = gradient_descent(X_b,y,W,lr,n_iter)"
   ]
  },
  {
   "cell_type": "code",
   "execution_count": 31,
   "id": "7a1e8143",
   "metadata": {},
   "outputs": [
    {
     "name": "stdout",
     "output_type": "stream",
     "text": [
      "W_final: [[3.91024078]\n",
      " [3.51533273]]\n"
     ]
    }
   ],
   "source": [
    "print('W_final:',W_final)"
   ]
  },
  {
   "cell_type": "code",
   "execution_count": 32,
   "id": "a711f3b8",
   "metadata": {},
   "outputs": [
    {
     "name": "stdout",
     "output_type": "stream",
     "text": [
      "Cost_history: [257000.78194373 246769.36459335 236958.40953902 227550.59924468\n",
      " 218529.32954537 209878.68026068 201583.38701858 193628.81424002\n",
      " 186000.92923644 178686.27737424 171671.95826236 164945.60292078\n",
      " 158495.35188958 152309.83423971 146378.14744845 140689.83810388\n",
      " 135234.88340413 130003.67341891 124986.99408157 120176.01088195\n",
      " 115562.25323089 111137.59946887 106894.26249219 102824.77597127\n",
      "  98921.98113669  95179.01410952  91589.29375364  88146.51002842\n",
      "  84844.6128212   81677.80123982  78640.51334624  75727.41631305\n",
      "  72933.39698553  70253.55283241  67683.18326948  65217.78134059\n",
      "  62853.02574132  60584.77317128  58409.05100138  56322.05024326\n",
      "  54320.11880824  52399.755044    50557.60153755  48790.43917343\n",
      "  47095.18143667  45468.86895049  43908.66423896  42411.84670545\n",
      "  40975.80781789  39598.04649242  38276.16466716  37007.86305835\n",
      "  35790.93709131  34623.27299898  33502.84408122  32427.70711821\n",
      "  31395.99893154  30405.93308702  29455.7967333   28543.94757071\n",
      "  27668.81094495  26828.87706056  26022.69830912  25248.88670753\n",
      "  24506.11144182  23793.09651219  23108.61847492  22451.50427747\n",
      "  21820.62918268  21214.91477843  20633.3270694   20074.87464734\n",
      "  19538.60693679  19023.61251301  18529.01748925  18053.98397039\n",
      "  17597.70857035  17159.42099052  16738.38265682  16333.88541278\n",
      "  15945.25026662  15571.8261898   15212.98896514  14868.14008237\n",
      "  14536.7056792   14218.13552595  13911.90205208  13617.49941278\n",
      "  13334.44259399  13062.26655438  12800.52540256  12548.79160824\n",
      "  12306.65524591  12073.72326963  11849.61881771  11633.98054605\n",
      "  11426.4619889   11226.73094601  11034.46889498  10849.37042784\n",
      "  10671.14271083  10499.50496644  10334.18797678  10174.9336074\n",
      "  10021.49435079   9873.63288855   9731.12167176   9593.74251849\n",
      "   9461.28622801   9333.55221079   9210.34813384   9091.48958053\n",
      "   8976.79972461   8866.10901746   8759.25488834   8656.081457\n",
      "   8556.43925803   8460.18497667   8367.18119546   8277.29615127\n",
      "   8190.40350248   8106.38210558   8025.11580113   7946.4932084\n",
      "   7870.40752859   7796.75635608   7725.44149744   7656.368798\n",
      "   7589.44797543   7524.59246031   7461.71924311   7400.74872765\n",
      "   7341.60459045   7284.21364596   7228.5057173    7174.41351236\n",
      "   7121.87250496   7070.82082094   7021.19912891   6972.95053557\n",
      "   6926.02048524   6880.3566636    6835.9089054    6792.62910591\n",
      "   6750.47113609   6709.39076121   6669.34556282   6630.29486396\n",
      "   6592.19965743   6555.02253706   6518.72763172   6483.28054212\n",
      "   6448.64828023   6414.79921112   6381.70299726   6349.33054508\n",
      "   6317.65395375   6286.64646607   6256.28242136   6226.53721032\n",
      "   6197.38723173   6168.80985095   6140.78336009   6113.28693991\n",
      "   6086.30062316   6059.80525954   6033.78248205   6008.21467476\n",
      "   5983.08494186   5958.37707802   5934.07553997   5910.16541924\n",
      "   5886.63241603   5863.46281414   5840.64345696   5818.16172442\n",
      "   5796.00551093   5774.16320416   5752.62366479   5731.37620699\n",
      "   5710.41057979   5689.71694916   5669.28588087   5649.10832403\n",
      "   5629.1755953    5609.47936378   5590.0116365    5570.76474454\n",
      "   5551.73132965   5532.9043315    5514.27697542   5495.84276064\n",
      "   5477.59544904   5459.52905432   5441.63783165   5423.91626776\n",
      "   5406.35907138   5388.96116414   5371.7176718    5354.62391586\n",
      "   5337.67540552   5320.86782995   5304.19705089   5287.65909558\n",
      "   5271.25014991   5254.96655196   5238.8047857    5222.761475\n",
      "   5206.83337792   5191.01738115   5175.31049473   5159.70984703\n",
      "   5144.21267983   5128.8163437    5113.51829354   5098.31608424\n",
      "   5083.20736666   5068.18988361   5053.26146614   5038.42002987\n",
      "   5023.66357157   5008.99016577   4994.39796163   4979.88517985\n",
      "   4965.45010972   4951.09110637   4936.806588     4922.59503334\n",
      "   4908.45497915   4894.38501786   4880.38379528   4866.45000841\n",
      "   4852.58240337   4838.77977335   4825.04095672   4811.36483517\n",
      "   4797.75033192   4784.19641007   4770.70207091   4757.26635242\n",
      "   4743.88832773   4730.5671037    4717.30181955   4704.09164551\n",
      "   4690.93578162   4677.83345643   4664.78392591   4651.7864723\n",
      "   4638.84040306   4625.9450498    4613.09976737   4600.30393283\n",
      "   4587.55694464   4574.85822172   4562.20720263   4549.60334483\n",
      "   4537.04612383   4524.53503253   4512.06958049   4499.64929322\n",
      "   4487.27371161   4474.94239126   4462.65490187   4450.41082673\n",
      "   4438.20976213   4426.05131683   4413.9351116    4401.86077871\n",
      "   4389.82796145   4377.83631373   4365.88549964   4353.97519302\n",
      "   4342.1050771    4330.27484411   4318.48419493   4306.73283873\n",
      "   4295.02049266   4283.34688153   4271.71173749   4260.11479975\n",
      "   4248.55581432   4237.03453369   4225.55071665   4214.10412797\n",
      "   4202.6945382    4191.32172345   4179.98546516   4168.68554989\n",
      "   4157.42176913   4146.19391908   4135.00180054   4123.84521863\n",
      "   4112.72398272   4101.63790619   4090.58680633   4079.57050416\n",
      "   4068.58882429   4057.64159482   4046.72864714   4035.84981587\n",
      "   4025.0049387    4014.19385629   4003.41641216   3992.67245257\n",
      "   3981.96182643   3971.2843852    3960.6399828    3950.02847549\n",
      "   3939.44972185   3928.90358262   3918.38992066   3907.90860089\n",
      "   3897.45949018   3887.0424573    3876.65737283   3866.30410915\n",
      "   3855.98254031   3845.69254202   3835.43399157   3825.20676778\n",
      "   3815.01075094   3804.8458228    3794.71186644   3784.60876631\n",
      "   3774.53640814   3764.4946789    3754.48346676   3744.50266108\n",
      "   3734.55215232   3724.63183205   3714.74159288   3704.88132846\n",
      "   3695.05093343   3685.25030338   3675.47933483   3665.73792523\n",
      "   3656.02597287   3646.34337691   3636.69003733   3627.06585492\n",
      "   3617.47073124   3607.90456859   3598.36727004   3588.85873934\n",
      "   3579.37888096   3569.92760002   3560.50480232   3551.1103943\n",
      "   3541.744283     3532.40637609   3523.09658183   3513.81480904\n",
      "   3504.56096712   3495.33496602   3486.13671622   3476.96612872\n",
      "   3467.82311504   3458.70758719   3449.61945769   3440.5586395\n",
      "   3431.5250461    3422.51859137   3413.53918969   3404.58675584\n",
      "   3395.66120505   3386.76245298   3377.89041568   3369.04500962\n",
      "   3360.22615166   3351.43375906   3342.66774946   3333.92804088\n",
      "   3325.2145517    3316.52720067   3307.86590691   3299.23058988\n",
      "   3290.62116938   3282.03756556   3273.47969891   3264.94749025\n",
      "   3256.44086073   3247.9597318    3239.50402525   3231.07366317\n",
      "   3222.66856797   3214.28866236   3205.93386934   3197.60411223\n",
      "   3189.29931462   3181.0194004    3172.76429375   3164.53391912\n",
      "   3156.32820126   3148.14706519   3139.99043618   3131.8582398\n",
      "   3123.75040189   3115.66684854   3107.6075061    3099.5723012\n",
      "   3091.5611607    3083.57401175   3075.61078173   3067.67139828\n",
      "   3059.75578928   3051.86388286   3043.99560741   3036.15089155\n",
      "   3028.32966414   3020.53185428   3012.75739131   3005.0062048\n",
      "   2997.27822457   2989.57338065   2981.89160333   2974.23282309\n",
      "   2966.59697066   2958.98397701   2951.39377332   2943.82629097\n",
      "   2936.28146161   2928.75921707   2921.25948942   2913.78221095\n",
      "   2906.32731414   2898.89473172   2891.48439661   2884.09624196\n",
      "   2876.73020112   2869.38620766   2862.06419534   2854.76409815\n",
      "   2847.48585029   2840.22938615   2832.99464032   2825.78154763\n",
      "   2818.59004307   2811.42006187   2804.27153943   2797.14441138\n",
      "   2790.03861353   2782.95408189   2775.89075267   2768.84856229\n",
      "   2761.82744735   2754.82734465   2747.84819119   2740.88992415\n",
      "   2733.95248093   2727.03579909   2720.13981641   2713.26447084\n",
      "   2706.40970052   2699.5754438    2692.7616392    2685.96822544\n",
      "   2679.1951414    2672.44232619   2665.70971906   2658.99725949\n",
      "   2652.3048871    2645.63254172   2638.98016337   2632.34769223\n",
      "   2625.73506867   2619.14223325   2612.56912669   2606.01568992\n",
      "   2599.48186401   2592.96759025   2586.47281007   2579.99746511\n",
      "   2573.54149716   2567.1048482    2560.68746039   2554.28927604\n",
      "   2547.91023767   2541.55028795   2535.20936972   2528.887426\n",
      "   2522.58439999   2516.30023505   2510.03487472   2503.78826269\n",
      "   2497.56034285   2491.35105923   2485.16035605   2478.98817768\n",
      "   2472.83446868   2466.69917375   2460.58223777   2454.4836058\n",
      "   2448.40322303   2442.34103486   2436.2969868    2430.27102458\n",
      "   2424.26309406   2418.27314126   2412.30111237   2406.34695376\n",
      "   2400.41061192   2394.49203355   2388.59116546   2382.70795467\n",
      "   2376.84234831   2370.9942937    2365.16373832   2359.35062978\n",
      "   2353.55491588   2347.77654455   2342.0154639    2336.27162217\n",
      "   2330.54496777   2324.83544927   2319.14301539   2313.46761499\n",
      "   2307.8091971    2302.16771089   2296.54310571   2290.93533102\n",
      "   2285.34433646   2279.77007181   2274.21248702   2268.67153215\n",
      "   2263.14715746   2257.63931331   2252.14795024   2246.67301894\n",
      "   2241.21447022   2235.77225507   2230.3463246    2224.93663008\n",
      "   2219.54312293   2214.16575471   2208.80447712   2203.45924201\n",
      "   2198.13000138   2192.81670735   2187.51931222   2182.23776841\n",
      "   2176.97202847   2171.72204513   2166.48777123   2161.26915976\n",
      "   2156.06616385   2150.87873677   2145.70683195   2140.55040292\n",
      "   2135.40940337   2130.28378715   2125.1735082    2120.07852065\n",
      "   2114.99877873   2109.93423682   2104.88484944   2099.85057124\n",
      "   2094.831357     2089.82716166   2084.83794026   2079.86364801\n",
      "   2074.90424022   2069.95967237   2065.02990003   2060.11487895\n",
      "   2055.21456497   2050.3289141    2045.45788245   2040.60142628\n",
      "   2035.75950197   2030.93206604   2026.11907514   2021.32048603\n",
      "   2016.53625564   2011.76634098   2007.01069923   2002.26928768\n",
      "   1997.54206373   1992.82898495   1988.130009     1983.44509368\n",
      "   1978.77419693   1974.11727678   1969.47429142   1964.84519916\n",
      "   1960.22995842   1955.62852774   1951.04086582   1946.46693144\n",
      "   1941.90668354   1937.36008115   1932.82708344   1928.30764972\n",
      "   1923.80173938   1919.30931196   1914.83032713   1910.36474464\n",
      "   1905.91252441   1901.47362644   1897.04801088   1892.63563797\n",
      "   1888.2364681    1883.85046175   1879.47757953   1875.11778218\n",
      "   1870.77103054   1866.43728557   1862.11650836   1857.8086601\n",
      "   1853.51370211   1849.2315958    1844.96230274   1840.70578457\n",
      "   1836.46200306   1832.23092012   1828.01249774   1823.80669803\n",
      "   1819.61348323   1815.43281568   1811.26465784   1807.10897226\n",
      "   1802.96572163   1798.83486875   1794.71637651   1790.61020792\n",
      "   1786.51632612   1782.43469434   1778.36527591   1774.3080343\n",
      "   1770.26293307   1766.22993589   1762.20900654   1758.20010892\n",
      "   1754.20320701   1750.21826493   1746.24524689   1742.2841172\n",
      "   1738.3348403    1734.39738072   1730.4717031    1726.55777218\n",
      "   1722.65555281   1718.76500995   1714.88610866   1711.01881411\n",
      "   1707.16309156   1703.31890639   1699.48622407   1695.66501019\n",
      "   1691.85523042   1688.05685056   1684.26983649   1680.49415421\n",
      "   1676.7297698    1672.97664946   1669.23475948   1665.50406626\n",
      "   1661.7845363    1658.07613618   1654.37883262   1650.6925924\n",
      "   1647.01738242   1643.35316968   1639.69992126   1636.05760436\n",
      "   1632.42618627   1628.80563438   1625.19591617   1621.59699923\n",
      "   1618.00885123   1614.43143995   1610.86473326   1607.30869914\n",
      "   1603.76330565   1600.22852094   1596.70431327   1593.190651\n",
      "   1589.68750257   1586.19483652   1582.71262148   1579.24082618\n",
      "   1575.77941944   1572.32837018   1568.8876474    1565.45722021\n",
      "   1562.03705779   1558.62712944   1555.22740452   1551.83785251\n",
      "   1548.45844297   1545.08914555   1541.72992999   1538.38076612\n",
      "   1535.04162386   1531.71247323   1528.39328433   1525.08402736\n",
      "   1521.78467258   1518.49519038   1515.21555121   1511.94572561\n",
      "   1508.68568423   1505.43539779   1502.19483709   1498.96397304\n",
      "   1495.74277661   1492.53121889   1489.32927103   1486.13690427\n",
      "   1482.95408994   1479.78079947   1476.61700435   1473.46267617\n",
      "   1470.31778661   1467.18230741   1464.05621043   1460.93946758\n",
      "   1457.83205088   1454.73393243   1451.64508439   1448.56547903\n",
      "   1445.49508869   1442.4338858    1439.38184286   1436.33893248\n",
      "   1433.30512731   1430.28040012   1427.26472374   1424.25807109\n",
      "   1421.26041517   1418.27172905   1415.29198591   1412.32115896\n",
      "   1409.35922155   1406.40614706   1403.46190898   1400.52648087\n",
      "   1397.59983636   1394.68194917   1391.77279309   1388.87234201\n",
      "   1385.98056987   1383.09745071   1380.22295863   1377.35706781\n",
      "   1374.49975252   1371.65098711   1368.81074597   1365.97900362\n",
      "   1363.15573462   1360.3409136    1357.53451531   1354.73651452\n",
      "   1351.94688612   1349.16560505   1346.39264634   1343.62798507\n",
      "   1340.87159643   1338.12345566   1335.38353807   1332.65181907\n",
      "   1329.92827412   1327.21287877   1324.50560862   1321.80643936\n",
      "   1319.11534675   1316.43230663   1313.7572949    1311.09028754\n",
      "   1308.43126059   1305.78019018   1303.1370525    1300.50182381\n",
      "   1297.87448044   1295.25499881   1292.64335538   1290.0395267\n",
      "   1287.44348939   1284.85522013   1282.27469568   1279.70189287\n",
      "   1277.13678859   1274.57935981   1272.02958354   1269.48743691\n",
      "   1266.95289708   1264.42594128   1261.90654683   1259.39469109\n",
      "   1256.89035152   1254.39350561   1251.90413095   1249.42220518\n",
      "   1246.94770601   1244.48061121   1242.02089865   1239.56854621\n",
      "   1237.12353189   1234.68583371   1232.2554298    1229.83229832\n",
      "   1227.41641751   1225.00776568   1222.60632119   1220.21206248\n",
      "   1217.82496805   1215.44501646   1213.07218634   1210.70645637\n",
      "   1208.34780532   1205.99621199   1203.65165528   1201.31411412\n",
      "   1198.98356752   1196.65999455   1194.34337436   1192.03368612\n",
      "   1189.7309091    1187.43502262   1185.14600607   1182.86383887\n",
      "   1180.58850055   1178.31997066   1176.05822883   1173.80325475\n",
      "   1171.55502817   1169.31352891   1167.07873682   1164.85063184\n",
      "   1162.62919395   1160.41440322   1158.20623975   1156.00468371\n",
      "   1153.80971533   1151.62131489   1149.43946275   1147.2641393\n",
      "   1145.09532502   1142.93300042   1140.77714609   1138.62774267\n",
      "   1136.48477085   1134.34821139   1132.21804509   1130.09425284\n",
      "   1127.97681556   1125.86571423   1123.76092989   1121.66244364\n",
      "   1119.57023663   1117.48429009   1115.40458526   1113.33110348\n",
      "   1111.26382613   1109.20273463   1107.14781049   1105.09903524\n",
      "   1103.05639049   1101.01985788   1098.98941915   1096.96505604\n",
      "   1094.94675037   1092.93448404   1090.92823895   1088.92799709\n",
      "   1086.93374051   1084.94545129   1082.96311158   1080.98670356\n",
      "   1079.0162095    1077.0516117    1075.09289252   1073.14003435\n",
      "   1071.19301967   1069.251831     1067.31645089   1065.38686197\n",
      "   1063.4630469    1061.54498842   1059.63266929   1057.72607235\n",
      "   1055.82518046   1053.92997656   1052.04044364   1050.15656471\n",
      "   1048.27832286   1046.40570123   1044.53868299   1042.67725138\n",
      "   1040.82138969   1038.97108124   1037.12630942   1035.28705766\n",
      "   1033.45330945   1031.62504831   1029.80225783   1027.98492164\n",
      "   1026.17302341   1024.36654688   1022.56547583   1020.76979407\n",
      "   1018.97948548   1017.19453398   1015.41492355   1013.6406382\n",
      "   1011.871662     1010.10797906   1008.34957354   1006.59642965\n",
      "   1004.84853164   1003.10586383   1001.36841055    999.63615621\n",
      "    997.90908525    996.18718216    994.47043147    992.75881778\n",
      "    991.05232569    989.3509399     987.65464512    985.96342612\n",
      "    984.27726771    982.59615475    980.92007213    979.24900482\n",
      "    977.58293779    975.92185609    974.26574481    972.61458906\n",
      "    970.96837402    969.32708491    967.69070699    966.05922555\n",
      "    964.43262595    962.81089359    961.19401389    959.58197234\n",
      "    957.97475446    956.37234581    954.77473201    953.1818987\n",
      "    951.59383159    950.01051641    948.43193895    946.85808501\n",
      "    945.28894048    943.72449126    942.1647233     940.6096226\n",
      "    939.05917518    937.51336712    935.97218454    934.4356136\n",
      "    932.90364051    931.3762515     929.85343285    928.33517089\n",
      "    926.82145199    925.31226255    923.80758901    922.30741788\n",
      "    920.81173566    919.32052893    917.83378431    916.35148843\n",
      "    914.87362798    913.4001897     911.93116035    910.46652673\n",
      "    909.0062757     907.55039415    906.09886898    904.65168718\n",
      "    903.20883574    901.77030171    900.33607217    898.90613423\n",
      "    897.48047506    896.05908185    894.64194183    893.22904229\n",
      "    891.82037053    890.41591391    889.0156598     887.61959563\n",
      "    886.22770887    884.83998702    883.45641761    882.07698822\n",
      "    880.70168645    879.33049997    877.96341645    876.60042362\n",
      "    875.24150924    873.8866611     872.53586704    871.18911493\n",
      "    869.84639266    868.50768819    867.17298948    865.84228456]\n"
     ]
    }
   ],
   "source": [
    "print('Cost_history:',cost_history)"
   ]
  },
  {
   "cell_type": "code",
   "execution_count": 33,
   "id": "7492c05a",
   "metadata": {},
   "outputs": [
    {
     "name": "stdout",
     "output_type": "stream",
     "text": [
      "initial_cost: 257000.78194372854\n",
      "final_cost: 865.842284563886\n"
     ]
    }
   ],
   "source": [
    "print('initial_cost:',cost_history[0])\n",
    "print('final_cost:',cost_history[-1])"
   ]
  },
  {
   "cell_type": "code",
   "execution_count": 34,
   "id": "d4cdebca",
   "metadata": {},
   "outputs": [
    {
     "name": "stdout",
     "output_type": "stream",
     "text": [
      "W_0: [-1.39619683]\n",
      "W_0_final: [3.91024078]\n"
     ]
    }
   ],
   "source": [
    "W_0 = W[0]\n",
    "print('W_0:',W[0])\n",
    "\n",
    "W_0_final = W_final[0]\n",
    "print('W_0_final:',W_final[0])"
   ]
  },
  {
   "cell_type": "code",
   "execution_count": 35,
   "id": "b9233c2a",
   "metadata": {},
   "outputs": [
    {
     "name": "stdout",
     "output_type": "stream",
     "text": [
      "W_1: [1.56125589]\n",
      "W_1_final: [3.51533273]\n"
     ]
    }
   ],
   "source": [
    "W_1 = W[1]\n",
    "print('W_1:',W_1)\n",
    "\n",
    "W_1_final = W_final[1]\n",
    "print('W_1_final:',W_1_final)"
   ]
  },
  {
   "cell_type": "code",
   "execution_count": 36,
   "id": "39391fdd",
   "metadata": {},
   "outputs": [],
   "source": [
    "# Gerçek katsayılar:\n",
    "# w0 = 4\n",
    "# w1 = 3"
   ]
  },
  {
   "cell_type": "markdown",
   "id": "e595b49a",
   "metadata": {},
   "source": [
    "LEARNING RATE"
   ]
  },
  {
   "cell_type": "code",
   "execution_count": 38,
   "id": "f6e02cb5",
   "metadata": {},
   "outputs": [],
   "source": [
    "def cost_vs_iterations(cost_history,n_iter):\n",
    "    fig,ax = plt.subplots(figsize=(12,8))\n",
    "    \n",
    "    plt.plot(range(n_iter),cost_history)\n",
    "    \n",
    "    plt.xlabel('Iterations')\n",
    "    plt.ylabel('J(W)')\n",
    "    plt.title('Maliyet - İterasyon')\n",
    "    plt.grid()\n",
    "    plt.show()"
   ]
  },
  {
   "cell_type": "code",
   "execution_count": 39,
   "id": "d4f95192",
   "metadata": {},
   "outputs": [
    {
     "data": {
      "image/png": "[encoded data removed]",
      "text/plain": [
       "<Figure size 1200x800 with 1 Axes>"
      ]
     },
     "metadata": {},
     "output_type": "display_data"
    }
   ],
   "source": [
    "cost_vs_iterations(cost_history,n_iter)"
   ]
  },
  {
   "cell_type": "code",
   "execution_count": 40,
   "id": "54f88071",
   "metadata": {},
   "outputs": [],
   "source": [
    "# Grafiktede görüldüğü gibi iterasyon değeri arttıkça maliyet yani cost history azalmaktadır.\n",
    "# Azalmasının sebebi formülde -a olması\n",
    "# Bu aşamada learning rateyi = 0.01 almıştık. Şimdi bunu değiştireceğiz."
   ]
  },
  {
   "cell_type": "code",
   "execution_count": 43,
   "id": "a7a89537",
   "metadata": {},
   "outputs": [],
   "source": [
    "def call_gradient(learning_rate,n_iter):\n",
    "    \n",
    "    #Bu learning rate ve iterasyon değeri için maliyet değerlerini al\n",
    "    W_final,cost_history,w_history = gradient_descent(X_b,y,W,learning_rate,n_iter)\n",
    "    #Çizim yap\n",
    "    cost_vs_iterations(cost_history,n_iter)"
   ]
  },
  {
   "cell_type": "markdown",
   "id": "0e4740f9",
   "metadata": {},
   "source": [
    "Deney 1: alpha = 0.01 olarak kalıcak iterasyon sayısı = n_iter = 2000 olacak"
   ]
  },
  {
   "cell_type": "code",
   "execution_count": 45,
   "id": "37bf6f1e",
   "metadata": {},
   "outputs": [
    {
     "data": {
      "image/png": "[encoded data removed]",
      "text/plain": [
       "<Figure size 1200x800 with 1 Axes>"
      ]
     },
     "metadata": {},
     "output_type": "display_data"
    }
   ],
   "source": [
    "learning_rate = 0.01\n",
    "n_iter = 2000\n",
    "call_gradient(learning_rate,n_iter)"
   ]
  },
  {
   "cell_type": "code",
   "execution_count": 46,
   "id": "cf5aebe1",
   "metadata": {},
   "outputs": [],
   "source": [
    "# Hiçbir şey değişmedi çünkü 1000 iterasyonda zaten fazlasıyla azaltmıştık."
   ]
  },
  {
   "cell_type": "markdown",
   "id": "6cc70f61",
   "metadata": {},
   "source": [
    "Learning_rate 0.01   n_rate = 500 için"
   ]
  },
  {
   "cell_type": "code",
   "execution_count": 47,
   "id": "6cd870fc",
   "metadata": {},
   "outputs": [
    {
     "data": {
      "image/png": "[encoded data removed]",
      "text/plain": [
       "<Figure size 1200x800 with 1 Axes>"
      ]
     },
     "metadata": {},
     "output_type": "display_data"
    }
   ],
   "source": [
    "learning_rate = 0.01\n",
    "n_iter = 500\n",
    "call_gradient(learning_rate,n_iter)"
   ]
  },
  {
   "cell_type": "code",
   "execution_count": 48,
   "id": "d1fe30c7",
   "metadata": {},
   "outputs": [],
   "source": [
    "# İterasyon sayısını küçültmekte çok bir şeyi değiştirmedi."
   ]
  },
  {
   "cell_type": "markdown",
   "id": "b7bdf7e6",
   "metadata": {},
   "source": [
    "Learning_rate = 0.05   ve n_iter = 1000 için"
   ]
  },
  {
   "cell_type": "code",
   "execution_count": 49,
   "id": "0edd7dc9",
   "metadata": {},
   "outputs": [
    {
     "data": {
      "image/png": "[encoded data removed]",
      "text/plain": [
       "<Figure size 1200x800 with 1 Axes>"
      ]
     },
     "metadata": {},
     "output_type": "display_data"
    }
   ],
   "source": [
    "learning_rate = 0.05\n",
    "n_iter = 1000\n",
    "call_gradient(learning_rate,n_iter)"
   ]
  },
  {
   "cell_type": "code",
   "execution_count": 50,
   "id": "3c7b80a2",
   "metadata": {},
   "outputs": [],
   "source": [
    "# Learning rate artarsa başta çok hızlı bir düşüş olur. Yani katsayılarını daha hızlı öğrenir. Fakat ne kadar çok arttırırsak\n",
    "# o kadar iyi mi değil mi şimdi deneyeceğiz."
   ]
  },
  {
   "cell_type": "markdown",
   "id": "c9852bbb",
   "metadata": {},
   "source": [
    "learning_rate = 0.1 ve n_iter = 1000"
   ]
  },
  {
   "cell_type": "code",
   "execution_count": 52,
   "id": "18df0eae",
   "metadata": {},
   "outputs": [
    {
     "data": {
      "image/png": "[encoded data removed]",
      "text/plain": [
       "<Figure size 1200x800 with 1 Axes>"
      ]
     },
     "metadata": {},
     "output_type": "display_data"
    }
   ],
   "source": [
    "learning_rate = 0.1\n",
    "n_iter = 1000\n",
    "call_gradient(learning_rate,n_iter)"
   ]
  },
  {
   "cell_type": "code",
   "execution_count": 53,
   "id": "5aeae3d6",
   "metadata": {},
   "outputs": [],
   "source": [
    "# dahada güzel oldu. Biraz daha hızlı yaklaştık.\n",
    "# Şimdi learning rateyi 1 yapacağız."
   ]
  },
  {
   "cell_type": "markdown",
   "id": "de83a238",
   "metadata": {},
   "source": [
    "learning_rate = 1 ve n_iter = 1000 için"
   ]
  },
  {
   "cell_type": "code",
   "execution_count": 54,
   "id": "19be1a01",
   "metadata": {},
   "outputs": [
    {
     "data": {
      "image/png": "[encoded data removed]",
      "text/plain": [
       "<Figure size 1200x800 with 1 Axes>"
      ]
     },
     "metadata": {},
     "output_type": "display_data"
    }
   ],
   "source": [
    "learning_rate = 1\n",
    "n_iter = 1000\n",
    "call_gradient(learning_rate,n_iter)"
   ]
  },
  {
   "cell_type": "code",
   "execution_count": 55,
   "id": "4157af97",
   "metadata": {},
   "outputs": [],
   "source": [
    "# Görüldüğü üzere fonksiyon azalacağı yerde arttı.\n",
    "# Buna ML'de overshoot denmektedir.\n",
    "# Adımımız çok büyük olduğu için overshoot durumuna uğradık. Çünkü gelmemiz gereken noktayı geçtik.\n",
    "# Bu sebepten learning rate hem çok küçük hem de çok büyük seçilmemelidir. \n",
    "# learning rate çok büyük seçildiği durumda overshoot durumu oluşurken , çok küçük seçildiği durumda öğrenme çok yavaş olur."
   ]
  },
  {
   "cell_type": "code",
   "execution_count": 56,
   "id": "7ef3adeb",
   "metadata": {},
   "outputs": [],
   "source": [
    "# Mesela küçük learning rateleri deneyelim"
   ]
  },
  {
   "cell_type": "markdown",
   "id": "389c3a27",
   "metadata": {},
   "source": [
    "Learning_rate = 0.001 ve n_iter = 1000"
   ]
  },
  {
   "cell_type": "code",
   "execution_count": 58,
   "id": "9750f988",
   "metadata": {},
   "outputs": [
    {
     "data": {
      "image/png": "[encoded data removed]",
      "text/plain": [
       "<Figure size 1200x800 with 1 Axes>"
      ]
     },
     "metadata": {},
     "output_type": "display_data"
    }
   ],
   "source": [
    "learning_rate = 0.001 \n",
    "n_iter = 1000\n",
    "call_gradient(learning_rate,n_iter)"
   ]
  },
  {
   "cell_type": "code",
   "execution_count": 59,
   "id": "7ee74f08",
   "metadata": {},
   "outputs": [],
   "source": [
    "# Görüldüğü gibi öğrenme çok yavaş kalmıştır. İterasyon sayısı yetmemiştir."
   ]
  },
  {
   "cell_type": "markdown",
   "id": "a55e0070",
   "metadata": {},
   "source": [
    "learning_rate = 0.001 ve n_iter = 10000 İçin"
   ]
  },
  {
   "cell_type": "code",
   "execution_count": 61,
   "id": "9e3f0a0c",
   "metadata": {},
   "outputs": [
    {
     "data": {
      "image/png": "[encoded data removed]",
      "text/plain": [
       "<Figure size 1200x800 with 1 Axes>"
      ]
     },
     "metadata": {},
     "output_type": "display_data"
    }
   ],
   "source": [
    "learning_rate = 0.001\n",
    "n_iter = 10000\n",
    "call_gradient(learning_rate,n_iter)"
   ]
  },
  {
   "cell_type": "code",
   "execution_count": 62,
   "id": "d6e5095e",
   "metadata": {},
   "outputs": [],
   "source": [
    "# Learning rate küçük olduğu durumda iterasyon sayısı arttırmamız gerekmektedir."
   ]
  },
  {
   "cell_type": "markdown",
   "id": "f4905191",
   "metadata": {},
   "source": [
    "ÇIKARIM"
   ]
  },
  {
   "cell_type": "code",
   "execution_count": 63,
   "id": "245c81d8",
   "metadata": {},
   "outputs": [],
   "source": [
    "# learning rate çok büyük olursa overshoot durumu meydana gelir ve asla minimum cost değerine yaklaşamayız.\n",
    "# Learning rate çok küçük olursa o zaman da adımlarımız çok küçük olacağı için optimum cost değerine yaklaşılması çok uzun sürer."
   ]
  },
  {
   "cell_type": "code",
   "execution_count": 64,
   "id": "f409fd67",
   "metadata": {},
   "outputs": [],
   "source": [
    "# Adam optimizer kullanılır genelde. Büyük başlatıp gittikçe azaltır learning rateyi."
   ]
  },
  {
   "cell_type": "markdown",
   "id": "370e3bd6",
   "metadata": {},
   "source": [
    "STOCHASTIC GRADIENT DESCENT(SGD)"
   ]
  },
  {
   "cell_type": "code",
   "execution_count": 65,
   "id": "96d0872c",
   "metadata": {},
   "outputs": [],
   "source": [
    "# Gradient descentte veri üzerinde sırasıyla işlem yaptık\n",
    "# Gerçek hayatta pek tercih edilmez.\n",
    "# Stochasticte her optimizasyon adımında kullanılacak veriyi rastgale seçer (stochastic)\n",
    "# Böylece daha az hatalı bir tahmin elde etmiş oluruz."
   ]
  },
  {
   "cell_type": "code",
   "execution_count": 70,
   "id": "bb97e211",
   "metadata": {},
   "outputs": [],
   "source": [
    "def stochastic_gradient_descent(X,y,W,learning_rate=0.01,iterations=100):\n",
    "    \"\"\"\n",
    "    Stochastic gradient parametreleri:\n",
    "    X:X matrisi (1'lerden oluşan sütun eklenmiş hali. Bias unit)\n",
    "    y: y vektörü\n",
    "    W: Katsayı vektörü W'lerden oluşmuş\n",
    "    learning_rate: a : öğrenme katsayısı\n",
    "    iterations: toplam döngü sayısı\n",
    "    Dönüş:\n",
    "    * W vektörünün son hali\n",
    "    * Maliyet listesi (cost history)\n",
    "    * W vektörünün listesi (weight history)\n",
    "    \"\"\"\n",
    "    n = len(y)\n",
    "    cost_history = np.zeros(iterations)\n",
    "    \n",
    "    for it in range(iterations):\n",
    "        cost = 0\n",
    "        # her seferinde rastgale bir X_i değeri seçip maliyet hesaplayacağız\n",
    "        for i in range(n):\n",
    "            #Rastgale bir değer al\n",
    "            rand_ind = np.random.randint(0,n)\n",
    "            \n",
    "            X_i = X[rand_ind,:].reshape(1,X.shape[1])\n",
    "            y_i = y[rand_ind].reshape(1,1)\n",
    "            \n",
    "            # Tek X_i için tahmin\n",
    "            \n",
    "            tahmin = np.dot(X_i,W)\n",
    "            \n",
    "            # Tek X_i için katsayı değişimi\n",
    "            \n",
    "            W = W - (1/n) * learning_rate * (X_i.T.dot((tahmin-y_i)))\n",
    "            \n",
    "            # Tek X_i için hesaplanan cost değerini cost değişkenine ekle\n",
    "            \n",
    "            cost += cal_cost(W,X_i,y_i)\n",
    "            \n",
    "            cost_history[it] = cost\n",
    "            \n",
    "        return W, cost_history\n",
    "        \n"
   ]
  },
  {
   "cell_type": "code",
   "execution_count": 71,
   "id": "a36f6690",
   "metadata": {},
   "outputs": [],
   "source": [
    "# X'ler üzerinde rqstgale döndüğümüz için daha iyi bir model elde etmiş olduk ve bir nebze iyileştirdik\n",
    "# Fakat hala bir sorun var gerçek hayatta bu pek tercih edilmez çünkü büyük verilerde çok büyük zaman kaybı yaratır."
   ]
  },
  {
   "cell_type": "code",
   "execution_count": 72,
   "id": "9465cf95",
   "metadata": {},
   "outputs": [],
   "source": [
    "# Bunun çözümü X'i teker teker almak yerine parti (batch) olarak almaktır."
   ]
  },
  {
   "cell_type": "markdown",
   "id": "082398fd",
   "metadata": {},
   "source": [
    "MINI BATCH STOCHASTIC GRADIENT DESCENT"
   ]
  },
  {
   "cell_type": "code",
   "execution_count": 73,
   "id": "d53d7b41",
   "metadata": {},
   "outputs": [],
   "source": [
    "# partiler üzerinde alıp o şekilde hesaplama sağlayacağız"
   ]
  },
  {
   "cell_type": "code",
   "execution_count": 74,
   "id": "e89617a3",
   "metadata": {},
   "outputs": [],
   "source": [
    "def minibatch_stochastic_gradient(X,y,W,learning_rate=0.01,iterations=100,batch_size=20):\n",
    "    \"\"\"\n",
    "    Stochastic gradient parametreleri:\n",
    "    X:X matrisi (1'lerden oluşan sütun eklenmiş hali. Bias unit)\n",
    "    y: y vektörü\n",
    "    W: Katsayı vektörü W'lerden oluşmuş\n",
    "    learning_rate: a : öğrenme katsayısı\n",
    "    iterations: toplam döngü sayısı\n",
    "    Dönüş:\n",
    "    * W vektörünün son hali\n",
    "    * Maliyet listesi (cost history)\n",
    "    * W vektörünün listesi (weight history)\n",
    "    \"\"\"\n",
    "    n = len(y)\n",
    "    cost_history = np.zeros(iterations)\n",
    "    \n",
    "    #toplam kaç adet batch olacak\n",
    "    \n",
    "    n_batches = int(n/batch_size)\n",
    "    \n",
    "    for it in range(iterations):\n",
    "        \n",
    "        cost = 0\n",
    "        # X ve y'leri karıştırıcaz. Aynı batchler gelmesin diye\n",
    "        indices = np.random.permutation()\n",
    "        X = X[indices]\n",
    "        y = y[indices]\n",
    "        \n",
    "        # Her seferinde rasgale bir X_i partisi alıp maliyeti hesaplayacağız.\n",
    "        \n",
    "        for i in range(0,n,batch_size):\n",
    "            #rastgale X_i ve y_i partileri\n",
    "            X_i = X[i:i+batch_size]\n",
    "            y_i = y[i:i+batch_size]\n",
    "            \n",
    "            #bias column ekle\n",
    "            \n",
    "            X_i = np.c_[np.ones(len(X_i)),X_i]\n",
    "            \n",
    "            #X_i partisi için tahmin \n",
    "            \n",
    "            tahmin = np.dot(X_i,W)\n",
    "            \n",
    "            # X_i partisi için katsayı değişimi\n",
    "            \n",
    "            W = W - (1/n)*learning_rate*(X_i.T.dot((tahmin-y_i)))\n",
    "            \n",
    "            #X_i partisi için hesaplanan cost'u cost değişkenine ekle\n",
    "            \n",
    "            cost += cal_cost(W,X_i,y_i)\n",
    "            \n",
    "        #Bu iterasyon için cost değerini cost_history'ye ekle\n",
    "        \n",
    "        cost_history[it]= cost\n",
    "        \n",
    "    return W , cost_history\n",
    "    "
   ]
  },
  {
   "cell_type": "code",
   "execution_count": null,
   "id": "a9157990",
   "metadata": {},
   "outputs": [],
   "source": []
  }
 ],
 "metadata": {
  "kernelspec": {
   "display_name": "Python 3 (ipykernel)",
   "language": "python",
   "name": "python3"
  },
  "language_info": {
   "codemirror_mode": {
    "name": "ipython",
    "version": 3
   },
   "file_extension": ".py",
   "mimetype": "text/x-python",
   "name": "python",
   "nbconvert_exporter": "python",
   "pygments_lexer": "ipython3",
   "version": "3.8.16"
  }
 },
 "nbformat": 4,
 "nbformat_minor": 5
}
